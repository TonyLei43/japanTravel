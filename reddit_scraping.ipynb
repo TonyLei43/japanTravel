{
 "cells": [
  {
   "cell_type": "code",
   "execution_count": null,
   "metadata": {},
   "outputs": [],
   "source": [
    "# pip install praw python-dotenv"
   ]
  },
  {
   "cell_type": "code",
   "execution_count": 1,
   "metadata": {},
   "outputs": [],
   "source": [
    "import praw\n",
    "import os\n",
    "from dotenv import load_dotenv\n",
    "import time\n",
    "import json"
   ]
  },
  {
   "cell_type": "code",
   "execution_count": 2,
   "metadata": {},
   "outputs": [],
   "source": [
    "\n",
    "# Load environment variables\n",
    "load_dotenv()\n",
    "\n",
    "# Initialize Reddit API client\n",
    "reddit = praw.Reddit(\n",
    "    client_id=os.getenv('REDDIT_CLIENT_ID'),\n",
    "    client_secret=os.getenv('REDDIT_CLIENT_SECRET'),\n",
    "    user_agent=os.getenv('REDDIT_USER_AGENT')\n",
    ")\n"
   ]
  },
  {
   "cell_type": "code",
   "execution_count": 4,
   "metadata": {},
   "outputs": [
    {
     "ename": "TypeError",
     "evalue": "BaseListingMixin.new() takes 1 positional argument but 2 were given",
     "output_type": "error",
     "traceback": [
      "\u001b[0;31m---------------------------------------------------------------------------\u001b[0m",
      "\u001b[0;31mTypeError\u001b[0m                                 Traceback (most recent call last)",
      "Cell \u001b[0;32mIn[4], line 3\u001b[0m\n\u001b[1;32m      1\u001b[0m subreddit \u001b[38;5;241m=\u001b[39m reddit\u001b[38;5;241m.\u001b[39msubreddit(\u001b[38;5;124m\"\u001b[39m\u001b[38;5;124mJapanTravel\u001b[39m\u001b[38;5;124m\"\u001b[39m)\n\u001b[0;32m----> 3\u001b[0m \u001b[38;5;28;01mfor\u001b[39;00m post \u001b[38;5;129;01min\u001b[39;00m \u001b[43msubreddit\u001b[49m\u001b[38;5;241;43m.\u001b[39;49m\u001b[43mnew\u001b[49m\u001b[43m(\u001b[49m\u001b[38;5;241;43m1\u001b[39;49m\u001b[43m)\u001b[49m:\n\u001b[1;32m      4\u001b[0m     \u001b[38;5;28mprint\u001b[39m(post)\n",
      "\u001b[0;31mTypeError\u001b[0m: BaseListingMixin.new() takes 1 positional argument but 2 were given"
     ]
    }
   ],
   "source": [
    "subreddit = reddit.subreddit(\"JapanTravel\")\n",
    "\n",
    "for post in subreddit.new(limit=1):\n",
    "    print(post)"
   ]
  },
  {
   "cell_type": "code",
   "execution_count": null,
   "metadata": {},
   "outputs": [],
   "source": [
    "def scrape_subreddit(subreddit_name, limit=None):\n",
    "    subreddit = reddit.subreddit(subreddit_name)\n",
    "    posts = []\n",
    "\n",
    "    for post in subreddit.new(limit=limit):\n",
    "        post_data = {\n",
    "            'id': post.id,\n",
    "            'title': post.title,\n",
    "            'author': post.author.name if post.author else '[deleted]',\n",
    "            'created_utc': post.created_utc,\n",
    "            'score': post.score,\n",
    "            'body': post.selftext,\n",
    "            'url': post.url,\n",
    "            'num_comments': post.num_comments\n",
    "        }\n",
    "        \n",
    "        # Fetch comments\n",
    "        post.comments.replace_more(limit=0)  # Flatten comment tree\n",
    "        comments = []\n",
    "        for comment in post.comments.list():\n",
    "            comment_data = {\n",
    "                'id': comment.id,\n",
    "                'author': comment.author.name if comment.author else '[deleted]',\n",
    "                'body': comment.body,\n",
    "                'score': comment.score,\n",
    "                'created_utc': comment.created_utc\n",
    "            }\n",
    "            comments.append(comment_data)\n",
    "        \n",
    "        post_data['comments'] = comments\n",
    "        \n",
    "        posts.append(post_data)\n",
    "        print(f\"Scraped post: {post.id}\")\n",
    "        \n",
    "        # Sleep to respect Reddit's rate limits\n",
    "        time.sleep(2)\n",
    "    \n",
    "    return posts"
   ]
  }
 ],
 "metadata": {
  "kernelspec": {
   "display_name": ".venv",
   "language": "python",
   "name": "python3"
  },
  "language_info": {
   "codemirror_mode": {
    "name": "ipython",
    "version": 3
   },
   "file_extension": ".py",
   "mimetype": "text/x-python",
   "name": "python",
   "nbconvert_exporter": "python",
   "pygments_lexer": "ipython3",
   "version": "3.12.4"
  }
 },
 "nbformat": 4,
 "nbformat_minor": 2
}
